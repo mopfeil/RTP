{
 "cells": [
  {
   "cell_type": "code",
   "execution_count": 1,
   "metadata": {},
   "outputs": [
    {
     "name": "stdout",
     "output_type": "stream",
     "text": [
      "Connected by ('141.69.101.67', 11034)\n"
     ]
    }
   ],
   "source": [
    "# http://docs.python.org/library/socket.html#socket-example\n",
    "\n",
    "import socket\n",
    "\n",
    "# Echo Server Program\n",
    "# Ensure the socket closes when the program exits.\n",
    "import atexit\n",
    "def close_socket():\n",
    "    conn.close()\n",
    "atexit.register(close_socket)\n",
    "\n",
    "# get local machine name\n",
    "HOST = socket.gethostname()\n",
    "\n",
    "PORT = 50006     # arbitrary non-privileged port\n",
    "s = socket.socket(socket.AF_INET, socket.SOCK_STREAM)\n",
    "s.setsockopt(socket.SOL_SOCKET, socket.SO_REUSEADDR,1)\n",
    "s.bind((HOST, PORT))\n",
    "s.listen(1)\n",
    "conn, addr = s.accept()\n",
    "print ('Connected by', addr)\n",
    "while 1: \n",
    "        data = conn.recv(1024).decode()\n",
    "        if not data: break\n",
    "        conn.send(data.encode())\n",
    "conn.close()\n"
   ]
  },
  {
   "cell_type": "code",
   "execution_count": null,
   "metadata": {},
   "outputs": [],
   "source": []
  },
  {
   "cell_type": "code",
   "execution_count": null,
   "metadata": {},
   "outputs": [],
   "source": []
  }
 ],
 "metadata": {
  "kernelspec": {
   "display_name": "Python 3",
   "language": "python",
   "name": "python3"
  },
  "language_info": {
   "codemirror_mode": {
    "name": "ipython",
    "version": 3
   },
   "file_extension": ".py",
   "mimetype": "text/x-python",
   "name": "python",
   "nbconvert_exporter": "python",
   "pygments_lexer": "ipython3",
   "version": "3.6.5"
  }
 },
 "nbformat": 4,
 "nbformat_minor": 2
}
