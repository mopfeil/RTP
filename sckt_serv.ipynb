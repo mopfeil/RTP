{
 "cells": [
  {
   "cell_type": "code",
   "execution_count": 1,
   "metadata": {},
   "outputs": [
    {
     "name": "stdout",
     "output_type": "stream",
     "text": [
      "Connected by ('141.69.60.44', 25365)\n"
     ]
    }
   ],
   "source": [
    "# http://docs.python.org/library/socket.html#socket-example\n",
    "\n",
    "import socket\n",
    "\n",
    "# Echo Server Program\n",
    "# Ensure the socket closes when the program exits.\n",
    "import atexit\n",
    "def close_socket():\n",
    "    conn.close()\n",
    "atexit.register(close_socket)\n",
    "\n",
    "# get local machine name\n",
    "HOST = socket.gethostname()\n",
    "\n",
    "PORT = 50006     # arbitrary non-privileged port\n",
    "s = socket.socket(socket.AF_INET, socket.SOCK_STREAM)\n",
    "s.setsockopt(socket.SOL_SOCKET, socket.SO_REUSEADDR,1)\n",
    "s.bind((HOST, PORT))\n",
    "s.listen(1)\n",
    "conn, addr = s.accept()\n",
    "print ('Connected by', addr)\n",
    "while 1: \n",
    "        data = conn.recv(1024).decode()\n",
    "        if not data: break\n",
    "        conn.send(data.encode())\n",
    "conn.close()\n"
   ]
  },
  {
   "cell_type": "code",
   "execution_count": null,
   "metadata": {},
   "outputs": [],
   "source": [
    "import socket\n",
    "\n",
    "HEADERSIZE = 10\n",
    "\n",
    "s = socket.socket(socket.AF_INET, socket.SOCK_STREAM)\n",
    "s.bind((socket.gethostname(), 1241))\n",
    "s.listen(5)\n",
    "\n",
    "while True:\n",
    "    # now our endpoint knows about the OTHER endpoint.\n",
    "    clientsocket, address = s.accept()\n",
    "    print(f\"Connection from {address} has been established.\")\n",
    "\n",
    "    msg = \"Welcome to the server!\"\n",
    "    msg = f\"{len(msg):<{HEADERSIZE}}\"+msg\n",
    "\n",
    "    clientsocket.send(bytes(msg,\"utf-8\"))"
   ]
  },
  {
   "cell_type": "code",
   "execution_count": null,
   "metadata": {},
   "outputs": [],
   "source": [
    "import socket\n",
    "import time\n",
    "\n",
    "\n",
    "HEADERSIZE = 10\n",
    "\n",
    "s = socket.socket(socket.AF_INET, socket.SOCK_STREAM)\n",
    "s.bind((socket.gethostname(), 1243))\n",
    "s.listen(5)\n",
    "\n",
    "while True:\n",
    "    # now our endpoint knows about the OTHER endpoint.\n",
    "    clientsocket, address = s.accept()\n",
    "    print(f\"Connection from {address} has been established.\")\n",
    "\n",
    "    msg = \"Welcome to the server!\"\n",
    "    msg = f\"{len(msg):<{HEADERSIZE}}\"+msg\n",
    "\n",
    "    clientsocket.send(bytes(msg,\"utf-8\"))\n",
    "\n",
    "    while True:\n",
    "        time.sleep(3)\n",
    "        msg = f\"The time is {time.time()}\"\n",
    "        msg = f\"{len(msg):<{HEADERSIZE}}\"+msg\n",
    "\n",
    "        print(msg)\n",
    "\n",
    "        clientsocket.send(bytes(msg,\"utf-8\"))"
   ]
  }
 ],
 "metadata": {
  "kernelspec": {
   "display_name": "Python 3",
   "language": "python",
   "name": "python3"
  },
  "language_info": {
   "codemirror_mode": {
    "name": "ipython",
    "version": 3
   },
   "file_extension": ".py",
   "mimetype": "text/x-python",
   "name": "python",
   "nbconvert_exporter": "python",
   "pygments_lexer": "ipython3",
   "version": "3.6.5"
  }
 },
 "nbformat": 4,
 "nbformat_minor": 2
}
