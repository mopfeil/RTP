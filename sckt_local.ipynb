{
 "cells": [
  {
   "cell_type": "code",
   "execution_count": 2,
   "metadata": {},
   "outputs": [
    {
     "name": "stdout",
     "output_type": "stream",
     "text": [
      "Received 'Hello World'\n"
     ]
    }
   ],
   "source": [
    "# hhtp://docs.python.org/library/socket.html#socket-example\n",
    "\n",
    "#Echo client program\n",
    "import socket\n",
    "# Ensure the socket closes when the program exits.\n",
    "import atexit\n",
    "def close_socket():\n",
    "    s.close()\n",
    "atexit.register(close_socket)\n",
    "\n",
    "# get local machine name\n",
    "HOST = socket.gethostname()\n",
    "PORT = 50006                 # The same port as used by the server\n",
    "s = socket.socket(socket.AF_INET, socket.SOCK_STREAM)\n",
    "s.setsockopt(socket.SOL_SOCKET, socket.SO_REUSEADDR, 1)\n",
    "s.connect((HOST, PORT))\n",
    "s.send('Hello World'.encode())\n",
    "data = s.recv(1024).decode()\n",
    "s.close()\n",
    "print('Received', repr(data))\n"
   ]
  },
  {
   "cell_type": "code",
   "execution_count": null,
   "metadata": {},
   "outputs": [],
   "source": []
  },
  {
   "cell_type": "code",
   "execution_count": null,
   "metadata": {
    "collapsed": true
   },
   "outputs": [],
   "source": []
  },
  {
   "cell_type": "code",
   "execution_count": null,
   "metadata": {
    "collapsed": true
   },
   "outputs": [],
   "source": []
  }
 ],
 "metadata": {
  "kernelspec": {
   "display_name": "Python 3",
   "language": "python",
   "name": "python3"
  },
  "language_info": {
   "codemirror_mode": {
    "name": "ipython",
    "version": 3
   },
   "file_extension": ".py",
   "mimetype": "text/x-python",
   "name": "python",
   "nbconvert_exporter": "python",
   "pygments_lexer": "ipython3",
   "version": "3.6.5"
  }
 },
 "nbformat": 4,
 "nbformat_minor": 2
}
